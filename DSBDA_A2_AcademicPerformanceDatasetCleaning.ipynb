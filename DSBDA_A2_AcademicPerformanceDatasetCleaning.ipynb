{
  "cells": [
    {
      "cell_type": "code",
      "execution_count": null,
      "metadata": {
        "id": "4XKNbtrX5Js0"
      },
      "outputs": [],
      "source": [
        "import pandas as pd\n",
        "import numpy as np\n"
      ]
    },
    {
      "cell_type": "code",
      "source": [
        "from google.colab import drive\n",
        "drive.mount('/content/gdrive')\n",
        "mydata = pd.read_csv('/content/gdrive/My Drive/sample_data/student-perfor.csv')"
      ],
      "metadata": {
        "id": "T8ihGT8Cq4FN",
        "colab": {
          "base_uri": "https://localhost:8080/",
          "height": 410
        },
        "outputId": "18a7a041-d96a-4b8d-bdec-5971f39422b3"
      },
      "execution_count": null,
      "outputs": [
        {
          "output_type": "stream",
          "name": "stdout",
          "text": [
            "Drive already mounted at /content/gdrive; to attempt to forcibly remount, call drive.mount(\"/content/gdrive\", force_remount=True).\n"
          ]
        },
        {
          "output_type": "error",
          "ename": "FileNotFoundError",
          "evalue": "ignored",
          "traceback": [
            "\u001b[0;31m---------------------------------------------------------------------------\u001b[0m",
            "\u001b[0;31mFileNotFoundError\u001b[0m                         Traceback (most recent call last)",
            "\u001b[0;32m<ipython-input-11-eb53c0c3fbb2>\u001b[0m in \u001b[0;36m<module>\u001b[0;34m()\u001b[0m\n\u001b[1;32m      1\u001b[0m \u001b[0;32mfrom\u001b[0m \u001b[0mgoogle\u001b[0m\u001b[0;34m.\u001b[0m\u001b[0mcolab\u001b[0m \u001b[0;32mimport\u001b[0m \u001b[0mdrive\u001b[0m\u001b[0;34m\u001b[0m\u001b[0;34m\u001b[0m\u001b[0m\n\u001b[1;32m      2\u001b[0m \u001b[0mdrive\u001b[0m\u001b[0;34m.\u001b[0m\u001b[0mmount\u001b[0m\u001b[0;34m(\u001b[0m\u001b[0;34m'/content/gdrive'\u001b[0m\u001b[0;34m)\u001b[0m\u001b[0;34m\u001b[0m\u001b[0;34m\u001b[0m\u001b[0m\n\u001b[0;32m----> 3\u001b[0;31m \u001b[0mmydata\u001b[0m \u001b[0;34m=\u001b[0m \u001b[0mpd\u001b[0m\u001b[0;34m.\u001b[0m\u001b[0mread_csv\u001b[0m\u001b[0;34m(\u001b[0m\u001b[0;34m'/content/gdrive/My Drive/sample_data/student-perfor.csv'\u001b[0m\u001b[0;34m)\u001b[0m\u001b[0;34m\u001b[0m\u001b[0;34m\u001b[0m\u001b[0m\n\u001b[0m",
            "\u001b[0;32m/usr/local/lib/python3.7/dist-packages/pandas/util/_decorators.py\u001b[0m in \u001b[0;36mwrapper\u001b[0;34m(*args, **kwargs)\u001b[0m\n\u001b[1;32m    309\u001b[0m                     \u001b[0mstacklevel\u001b[0m\u001b[0;34m=\u001b[0m\u001b[0mstacklevel\u001b[0m\u001b[0;34m,\u001b[0m\u001b[0;34m\u001b[0m\u001b[0;34m\u001b[0m\u001b[0m\n\u001b[1;32m    310\u001b[0m                 )\n\u001b[0;32m--> 311\u001b[0;31m             \u001b[0;32mreturn\u001b[0m \u001b[0mfunc\u001b[0m\u001b[0;34m(\u001b[0m\u001b[0;34m*\u001b[0m\u001b[0margs\u001b[0m\u001b[0;34m,\u001b[0m \u001b[0;34m**\u001b[0m\u001b[0mkwargs\u001b[0m\u001b[0;34m)\u001b[0m\u001b[0;34m\u001b[0m\u001b[0;34m\u001b[0m\u001b[0m\n\u001b[0m\u001b[1;32m    312\u001b[0m \u001b[0;34m\u001b[0m\u001b[0m\n\u001b[1;32m    313\u001b[0m         \u001b[0;32mreturn\u001b[0m \u001b[0mwrapper\u001b[0m\u001b[0;34m\u001b[0m\u001b[0;34m\u001b[0m\u001b[0m\n",
            "\u001b[0;32m/usr/local/lib/python3.7/dist-packages/pandas/io/parsers/readers.py\u001b[0m in \u001b[0;36mread_csv\u001b[0;34m(filepath_or_buffer, sep, delimiter, header, names, index_col, usecols, squeeze, prefix, mangle_dupe_cols, dtype, engine, converters, true_values, false_values, skipinitialspace, skiprows, skipfooter, nrows, na_values, keep_default_na, na_filter, verbose, skip_blank_lines, parse_dates, infer_datetime_format, keep_date_col, date_parser, dayfirst, cache_dates, iterator, chunksize, compression, thousands, decimal, lineterminator, quotechar, quoting, doublequote, escapechar, comment, encoding, encoding_errors, dialect, error_bad_lines, warn_bad_lines, on_bad_lines, delim_whitespace, low_memory, memory_map, float_precision, storage_options)\u001b[0m\n\u001b[1;32m    584\u001b[0m     \u001b[0mkwds\u001b[0m\u001b[0;34m.\u001b[0m\u001b[0mupdate\u001b[0m\u001b[0;34m(\u001b[0m\u001b[0mkwds_defaults\u001b[0m\u001b[0;34m)\u001b[0m\u001b[0;34m\u001b[0m\u001b[0;34m\u001b[0m\u001b[0m\n\u001b[1;32m    585\u001b[0m \u001b[0;34m\u001b[0m\u001b[0m\n\u001b[0;32m--> 586\u001b[0;31m     \u001b[0;32mreturn\u001b[0m \u001b[0m_read\u001b[0m\u001b[0;34m(\u001b[0m\u001b[0mfilepath_or_buffer\u001b[0m\u001b[0;34m,\u001b[0m \u001b[0mkwds\u001b[0m\u001b[0;34m)\u001b[0m\u001b[0;34m\u001b[0m\u001b[0;34m\u001b[0m\u001b[0m\n\u001b[0m\u001b[1;32m    587\u001b[0m \u001b[0;34m\u001b[0m\u001b[0m\n\u001b[1;32m    588\u001b[0m \u001b[0;34m\u001b[0m\u001b[0m\n",
            "\u001b[0;32m/usr/local/lib/python3.7/dist-packages/pandas/io/parsers/readers.py\u001b[0m in \u001b[0;36m_read\u001b[0;34m(filepath_or_buffer, kwds)\u001b[0m\n\u001b[1;32m    480\u001b[0m \u001b[0;34m\u001b[0m\u001b[0m\n\u001b[1;32m    481\u001b[0m     \u001b[0;31m# Create the parser.\u001b[0m\u001b[0;34m\u001b[0m\u001b[0;34m\u001b[0m\u001b[0;34m\u001b[0m\u001b[0m\n\u001b[0;32m--> 482\u001b[0;31m     \u001b[0mparser\u001b[0m \u001b[0;34m=\u001b[0m \u001b[0mTextFileReader\u001b[0m\u001b[0;34m(\u001b[0m\u001b[0mfilepath_or_buffer\u001b[0m\u001b[0;34m,\u001b[0m \u001b[0;34m**\u001b[0m\u001b[0mkwds\u001b[0m\u001b[0;34m)\u001b[0m\u001b[0;34m\u001b[0m\u001b[0;34m\u001b[0m\u001b[0m\n\u001b[0m\u001b[1;32m    483\u001b[0m \u001b[0;34m\u001b[0m\u001b[0m\n\u001b[1;32m    484\u001b[0m     \u001b[0;32mif\u001b[0m \u001b[0mchunksize\u001b[0m \u001b[0;32mor\u001b[0m \u001b[0miterator\u001b[0m\u001b[0;34m:\u001b[0m\u001b[0;34m\u001b[0m\u001b[0;34m\u001b[0m\u001b[0m\n",
            "\u001b[0;32m/usr/local/lib/python3.7/dist-packages/pandas/io/parsers/readers.py\u001b[0m in \u001b[0;36m__init__\u001b[0;34m(self, f, engine, **kwds)\u001b[0m\n\u001b[1;32m    809\u001b[0m             \u001b[0mself\u001b[0m\u001b[0;34m.\u001b[0m\u001b[0moptions\u001b[0m\u001b[0;34m[\u001b[0m\u001b[0;34m\"has_index_names\"\u001b[0m\u001b[0;34m]\u001b[0m \u001b[0;34m=\u001b[0m \u001b[0mkwds\u001b[0m\u001b[0;34m[\u001b[0m\u001b[0;34m\"has_index_names\"\u001b[0m\u001b[0;34m]\u001b[0m\u001b[0;34m\u001b[0m\u001b[0;34m\u001b[0m\u001b[0m\n\u001b[1;32m    810\u001b[0m \u001b[0;34m\u001b[0m\u001b[0m\n\u001b[0;32m--> 811\u001b[0;31m         \u001b[0mself\u001b[0m\u001b[0;34m.\u001b[0m\u001b[0m_engine\u001b[0m \u001b[0;34m=\u001b[0m \u001b[0mself\u001b[0m\u001b[0;34m.\u001b[0m\u001b[0m_make_engine\u001b[0m\u001b[0;34m(\u001b[0m\u001b[0mself\u001b[0m\u001b[0;34m.\u001b[0m\u001b[0mengine\u001b[0m\u001b[0;34m)\u001b[0m\u001b[0;34m\u001b[0m\u001b[0;34m\u001b[0m\u001b[0m\n\u001b[0m\u001b[1;32m    812\u001b[0m \u001b[0;34m\u001b[0m\u001b[0m\n\u001b[1;32m    813\u001b[0m     \u001b[0;32mdef\u001b[0m \u001b[0mclose\u001b[0m\u001b[0;34m(\u001b[0m\u001b[0mself\u001b[0m\u001b[0;34m)\u001b[0m\u001b[0;34m:\u001b[0m\u001b[0;34m\u001b[0m\u001b[0;34m\u001b[0m\u001b[0m\n",
            "\u001b[0;32m/usr/local/lib/python3.7/dist-packages/pandas/io/parsers/readers.py\u001b[0m in \u001b[0;36m_make_engine\u001b[0;34m(self, engine)\u001b[0m\n\u001b[1;32m   1038\u001b[0m             )\n\u001b[1;32m   1039\u001b[0m         \u001b[0;31m# error: Too many arguments for \"ParserBase\"\u001b[0m\u001b[0;34m\u001b[0m\u001b[0;34m\u001b[0m\u001b[0;34m\u001b[0m\u001b[0m\n\u001b[0;32m-> 1040\u001b[0;31m         \u001b[0;32mreturn\u001b[0m \u001b[0mmapping\u001b[0m\u001b[0;34m[\u001b[0m\u001b[0mengine\u001b[0m\u001b[0;34m]\u001b[0m\u001b[0;34m(\u001b[0m\u001b[0mself\u001b[0m\u001b[0;34m.\u001b[0m\u001b[0mf\u001b[0m\u001b[0;34m,\u001b[0m \u001b[0;34m**\u001b[0m\u001b[0mself\u001b[0m\u001b[0;34m.\u001b[0m\u001b[0moptions\u001b[0m\u001b[0;34m)\u001b[0m  \u001b[0;31m# type: ignore[call-arg]\u001b[0m\u001b[0;34m\u001b[0m\u001b[0;34m\u001b[0m\u001b[0m\n\u001b[0m\u001b[1;32m   1041\u001b[0m \u001b[0;34m\u001b[0m\u001b[0m\n\u001b[1;32m   1042\u001b[0m     \u001b[0;32mdef\u001b[0m \u001b[0m_failover_to_python\u001b[0m\u001b[0;34m(\u001b[0m\u001b[0mself\u001b[0m\u001b[0;34m)\u001b[0m\u001b[0;34m:\u001b[0m\u001b[0;34m\u001b[0m\u001b[0;34m\u001b[0m\u001b[0m\n",
            "\u001b[0;32m/usr/local/lib/python3.7/dist-packages/pandas/io/parsers/c_parser_wrapper.py\u001b[0m in \u001b[0;36m__init__\u001b[0;34m(self, src, **kwds)\u001b[0m\n\u001b[1;32m     49\u001b[0m \u001b[0;34m\u001b[0m\u001b[0m\n\u001b[1;32m     50\u001b[0m         \u001b[0;31m# open handles\u001b[0m\u001b[0;34m\u001b[0m\u001b[0;34m\u001b[0m\u001b[0;34m\u001b[0m\u001b[0m\n\u001b[0;32m---> 51\u001b[0;31m         \u001b[0mself\u001b[0m\u001b[0;34m.\u001b[0m\u001b[0m_open_handles\u001b[0m\u001b[0;34m(\u001b[0m\u001b[0msrc\u001b[0m\u001b[0;34m,\u001b[0m \u001b[0mkwds\u001b[0m\u001b[0;34m)\u001b[0m\u001b[0;34m\u001b[0m\u001b[0;34m\u001b[0m\u001b[0m\n\u001b[0m\u001b[1;32m     52\u001b[0m         \u001b[0;32massert\u001b[0m \u001b[0mself\u001b[0m\u001b[0;34m.\u001b[0m\u001b[0mhandles\u001b[0m \u001b[0;32mis\u001b[0m \u001b[0;32mnot\u001b[0m \u001b[0;32mNone\u001b[0m\u001b[0;34m\u001b[0m\u001b[0;34m\u001b[0m\u001b[0m\n\u001b[1;32m     53\u001b[0m \u001b[0;34m\u001b[0m\u001b[0m\n",
            "\u001b[0;32m/usr/local/lib/python3.7/dist-packages/pandas/io/parsers/base_parser.py\u001b[0m in \u001b[0;36m_open_handles\u001b[0;34m(self, src, kwds)\u001b[0m\n\u001b[1;32m    227\u001b[0m             \u001b[0mmemory_map\u001b[0m\u001b[0;34m=\u001b[0m\u001b[0mkwds\u001b[0m\u001b[0;34m.\u001b[0m\u001b[0mget\u001b[0m\u001b[0;34m(\u001b[0m\u001b[0;34m\"memory_map\"\u001b[0m\u001b[0;34m,\u001b[0m \u001b[0;32mFalse\u001b[0m\u001b[0;34m)\u001b[0m\u001b[0;34m,\u001b[0m\u001b[0;34m\u001b[0m\u001b[0;34m\u001b[0m\u001b[0m\n\u001b[1;32m    228\u001b[0m             \u001b[0mstorage_options\u001b[0m\u001b[0;34m=\u001b[0m\u001b[0mkwds\u001b[0m\u001b[0;34m.\u001b[0m\u001b[0mget\u001b[0m\u001b[0;34m(\u001b[0m\u001b[0;34m\"storage_options\"\u001b[0m\u001b[0;34m,\u001b[0m \u001b[0;32mNone\u001b[0m\u001b[0;34m)\u001b[0m\u001b[0;34m,\u001b[0m\u001b[0;34m\u001b[0m\u001b[0;34m\u001b[0m\u001b[0m\n\u001b[0;32m--> 229\u001b[0;31m             \u001b[0merrors\u001b[0m\u001b[0;34m=\u001b[0m\u001b[0mkwds\u001b[0m\u001b[0;34m.\u001b[0m\u001b[0mget\u001b[0m\u001b[0;34m(\u001b[0m\u001b[0;34m\"encoding_errors\"\u001b[0m\u001b[0;34m,\u001b[0m \u001b[0;34m\"strict\"\u001b[0m\u001b[0;34m)\u001b[0m\u001b[0;34m,\u001b[0m\u001b[0;34m\u001b[0m\u001b[0;34m\u001b[0m\u001b[0m\n\u001b[0m\u001b[1;32m    230\u001b[0m         )\n\u001b[1;32m    231\u001b[0m \u001b[0;34m\u001b[0m\u001b[0m\n",
            "\u001b[0;32m/usr/local/lib/python3.7/dist-packages/pandas/io/common.py\u001b[0m in \u001b[0;36mget_handle\u001b[0;34m(path_or_buf, mode, encoding, compression, memory_map, is_text, errors, storage_options)\u001b[0m\n\u001b[1;32m    705\u001b[0m                 \u001b[0mencoding\u001b[0m\u001b[0;34m=\u001b[0m\u001b[0mioargs\u001b[0m\u001b[0;34m.\u001b[0m\u001b[0mencoding\u001b[0m\u001b[0;34m,\u001b[0m\u001b[0;34m\u001b[0m\u001b[0;34m\u001b[0m\u001b[0m\n\u001b[1;32m    706\u001b[0m                 \u001b[0merrors\u001b[0m\u001b[0;34m=\u001b[0m\u001b[0merrors\u001b[0m\u001b[0;34m,\u001b[0m\u001b[0;34m\u001b[0m\u001b[0;34m\u001b[0m\u001b[0m\n\u001b[0;32m--> 707\u001b[0;31m                 \u001b[0mnewline\u001b[0m\u001b[0;34m=\u001b[0m\u001b[0;34m\"\"\u001b[0m\u001b[0;34m,\u001b[0m\u001b[0;34m\u001b[0m\u001b[0;34m\u001b[0m\u001b[0m\n\u001b[0m\u001b[1;32m    708\u001b[0m             )\n\u001b[1;32m    709\u001b[0m         \u001b[0;32melse\u001b[0m\u001b[0;34m:\u001b[0m\u001b[0;34m\u001b[0m\u001b[0;34m\u001b[0m\u001b[0m\n",
            "\u001b[0;31mFileNotFoundError\u001b[0m: [Errno 2] No such file or directory: '/content/gdrive/My Drive/sample_data/student-perfor.csv'"
          ]
        }
      ]
    },
    {
      "cell_type": "code",
      "execution_count": null,
      "metadata": {
        "id": "8yEo7XGV5JtN"
      },
      "outputs": [],
      "source": [
        "df['Division'].unique()"
      ]
    },
    {
      "cell_type": "code",
      "execution_count": null,
      "metadata": {
        "id": "gPwxC1pR5JtO"
      },
      "outputs": [],
      "source": [
        "df['Division'] = df['Division'].replace({'A':0, 'B':1})"
      ]
    },
    {
      "cell_type": "code",
      "execution_count": null,
      "metadata": {
        "id": "azr4nb3D5JtR",
        "outputId": "5a7c91e2-a90a-4690-d911-cf91c698e6cf"
      },
      "outputs": [
        {
          "data": {
            "text/plain": [
              "array([1, 0], dtype=int64)"
            ]
          },
          "execution_count": 12,
          "metadata": {},
          "output_type": "execute_result"
        }
      ],
      "source": [
        "df['Division'].unique()"
      ]
    },
    {
      "cell_type": "code",
      "execution_count": null,
      "metadata": {
        "id": "sQDiaZw35JtS"
      },
      "outputs": [],
      "source": [
        ""
      ]
    },
    {
      "cell_type": "markdown",
      "metadata": {
        "id": "2ufvPKi85JtS"
      },
      "source": [
        "# AGE COLUMN PREPROCESSING"
      ]
    },
    {
      "cell_type": "code",
      "execution_count": null,
      "metadata": {
        "id": "9SUslD4f5JtT",
        "outputId": "4ebffe83-7dd4-49a5-970f-22fe8da8a5a5"
      },
      "outputs": [
        {
          "data": {
            "text/plain": [
              "array([20, 21, 19, 22], dtype=int64)"
            ]
          },
          "execution_count": 13,
          "metadata": {},
          "output_type": "execute_result"
        }
      ],
      "source": [
        "df['Age'].unique()"
      ]
    },
    {
      "cell_type": "code",
      "execution_count": null,
      "metadata": {
        "id": "zxbzj5N65JtV",
        "outputId": "d73dd866-38c8-4a40-8fbd-1d59a9e23631"
      },
      "outputs": [
        {
          "data": {
            "text/plain": [
              "0"
            ]
          },
          "execution_count": 14,
          "metadata": {},
          "output_type": "execute_result"
        }
      ],
      "source": [
        "df['Age'].isnull().sum()"
      ]
    },
    {
      "cell_type": "code",
      "execution_count": null,
      "metadata": {
        "id": "9norVoe95JtV"
      },
      "outputs": [],
      "source": [
        "#normalization"
      ]
    },
    {
      "cell_type": "markdown",
      "metadata": {
        "id": "ExEujAa65JtW"
      },
      "source": [
        "# Gender Column Preprocessing"
      ]
    },
    {
      "cell_type": "code",
      "execution_count": null,
      "metadata": {
        "id": "_3z5clbv5JtX",
        "outputId": "84a52c9f-1164-4a09-98f4-1cb44d6b8c8d"
      },
      "outputs": [
        {
          "data": {
            "text/plain": [
              "array(['F', 'M'], dtype=object)"
            ]
          },
          "execution_count": 16,
          "metadata": {},
          "output_type": "execute_result"
        }
      ],
      "source": [
        "df['Gender '].unique()"
      ]
    },
    {
      "cell_type": "code",
      "execution_count": null,
      "metadata": {
        "id": "-dxvwVLa5JtY"
      },
      "outputs": [],
      "source": [
        "df['Gender '] = df['Gender '].replace({'M':0, 'F':1})"
      ]
    },
    {
      "cell_type": "code",
      "execution_count": null,
      "metadata": {
        "id": "V3FJvxMq5JtY",
        "outputId": "1398439d-0422-41e1-c7e4-e383be9ab7d2"
      },
      "outputs": [
        {
          "data": {
            "text/plain": [
              "array([1, 0], dtype=int64)"
            ]
          },
          "execution_count": 18,
          "metadata": {},
          "output_type": "execute_result"
        }
      ],
      "source": [
        "df['Gender '].unique()"
      ]
    },
    {
      "cell_type": "code",
      "execution_count": null,
      "metadata": {
        "id": "Jgn4q8YB5JtZ",
        "outputId": "d8559880-0fcd-4533-845b-d2f73ee09275"
      },
      "outputs": [
        {
          "data": {
            "text/html": [
              "<div>\n",
              "<style scoped>\n",
              "    .dataframe tbody tr th:only-of-type {\n",
              "        vertical-align: middle;\n",
              "    }\n",
              "\n",
              "    .dataframe tbody tr th {\n",
              "        vertical-align: top;\n",
              "    }\n",
              "\n",
              "    .dataframe thead th {\n",
              "        text-align: right;\n",
              "    }\n",
              "</style>\n",
              "<table border=\"1\" class=\"dataframe\">\n",
              "  <thead>\n",
              "    <tr style=\"text-align: right;\">\n",
              "      <th></th>\n",
              "      <th>Timestamp</th>\n",
              "      <th>Email Address</th>\n",
              "      <th>Name of student</th>\n",
              "      <th>Roll Number (e.g. A101, B202)</th>\n",
              "      <th>Division</th>\n",
              "      <th>Age</th>\n",
              "      <th>Gender</th>\n",
              "      <th>Study time in hrs</th>\n",
              "      <th>FE pointer(e.g. 7.9)</th>\n",
              "      <th>SE pointer(e.g. 7.9)</th>\n",
              "      <th>number of subject failed in</th>\n",
              "      <th>current backlogs</th>\n",
              "      <th>Additional courses opted</th>\n",
              "      <th>number of paper published</th>\n",
              "      <th>intership opted</th>\n",
              "      <th>10th marks in percentage</th>\n",
              "      <th>12th marks in percentage</th>\n",
              "      <th>10th and 12th university/board</th>\n",
              "    </tr>\n",
              "  </thead>\n",
              "  <tbody>\n",
              "    <tr>\n",
              "      <th>0</th>\n",
              "      <td>1/18/2022 14:34:30</td>\n",
              "      <td>nikita.khairnar19@pccoepune.org</td>\n",
              "      <td>Nikita Vijay Khairnar</td>\n",
              "      <td>213</td>\n",
              "      <td>1</td>\n",
              "      <td>20</td>\n",
              "      <td>1</td>\n",
              "      <td>3</td>\n",
              "      <td>9.20</td>\n",
              "      <td>9.95</td>\n",
              "      <td>0</td>\n",
              "      <td>0</td>\n",
              "      <td>NaN</td>\n",
              "      <td>NaN</td>\n",
              "      <td>YES</td>\n",
              "      <td>93.6</td>\n",
              "      <td>82.31</td>\n",
              "      <td>STATE</td>\n",
              "    </tr>\n",
              "    <tr>\n",
              "      <th>1</th>\n",
              "      <td>1/18/2022 14:34:31</td>\n",
              "      <td>krishnankit.dixit19@pccoepune.org</td>\n",
              "      <td>Krishnankit Dixit</td>\n",
              "      <td>143</td>\n",
              "      <td>0</td>\n",
              "      <td>21</td>\n",
              "      <td>0</td>\n",
              "      <td>5</td>\n",
              "      <td>9.36</td>\n",
              "      <td>9.41</td>\n",
              "      <td>0</td>\n",
              "      <td>0</td>\n",
              "      <td>Web development, Python, Data structures and a...</td>\n",
              "      <td>0</td>\n",
              "      <td>YES</td>\n",
              "      <td>89</td>\n",
              "      <td>83</td>\n",
              "      <td>STATE</td>\n",
              "    </tr>\n",
              "    <tr>\n",
              "      <th>2</th>\n",
              "      <td>1/18/2022 14:34:38</td>\n",
              "      <td>karthi.dhanasekaran19@pccoepune.org</td>\n",
              "      <td>Karthi Dhanasekaran</td>\n",
              "      <td>275</td>\n",
              "      <td>1</td>\n",
              "      <td>21</td>\n",
              "      <td>0</td>\n",
              "      <td>2</td>\n",
              "      <td>8.45</td>\n",
              "      <td>9.45</td>\n",
              "      <td>0</td>\n",
              "      <td>0</td>\n",
              "      <td>AI/ML</td>\n",
              "      <td>1</td>\n",
              "      <td>YES</td>\n",
              "      <td>82.8</td>\n",
              "      <td>84.6</td>\n",
              "      <td>CBSE</td>\n",
              "    </tr>\n",
              "    <tr>\n",
              "      <th>3</th>\n",
              "      <td>1/18/2022 14:34:44</td>\n",
              "      <td>shreyash.patil19@pccoepune.org</td>\n",
              "      <td>Shreyash patil</td>\n",
              "      <td>264</td>\n",
              "      <td>1</td>\n",
              "      <td>21</td>\n",
              "      <td>0</td>\n",
              "      <td>0.7</td>\n",
              "      <td>8.50</td>\n",
              "      <td>9.20</td>\n",
              "      <td>0</td>\n",
              "      <td>0</td>\n",
              "      <td>Python, c, c++</td>\n",
              "      <td>1</td>\n",
              "      <td>NO</td>\n",
              "      <td>89</td>\n",
              "      <td>79</td>\n",
              "      <td>STATE</td>\n",
              "    </tr>\n",
              "    <tr>\n",
              "      <th>4</th>\n",
              "      <td>1/18/2022 14:34:54</td>\n",
              "      <td>hitesh.kotecha19@pccoepune.org</td>\n",
              "      <td>Hitesh Kotecha</td>\n",
              "      <td>220</td>\n",
              "      <td>1</td>\n",
              "      <td>20</td>\n",
              "      <td>0</td>\n",
              "      <td>4</td>\n",
              "      <td>8.40</td>\n",
              "      <td>8.70</td>\n",
              "      <td>0</td>\n",
              "      <td>0</td>\n",
              "      <td>0</td>\n",
              "      <td>0</td>\n",
              "      <td>YES</td>\n",
              "      <td>88</td>\n",
              "      <td>74</td>\n",
              "      <td>STATE</td>\n",
              "    </tr>\n",
              "  </tbody>\n",
              "</table>\n",
              "</div>"
            ],
            "text/plain": [
              "            Timestamp                        Email Address  \\\n",
              "0  1/18/2022 14:34:30      nikita.khairnar19@pccoepune.org   \n",
              "1  1/18/2022 14:34:31    krishnankit.dixit19@pccoepune.org   \n",
              "2  1/18/2022 14:34:38  karthi.dhanasekaran19@pccoepune.org   \n",
              "3  1/18/2022 14:34:44       shreyash.patil19@pccoepune.org   \n",
              "4  1/18/2022 14:34:54       hitesh.kotecha19@pccoepune.org   \n",
              "\n",
              "         Name of student Roll Number (e.g. A101, B202)  Division  Age  \\\n",
              "0  Nikita Vijay Khairnar                           213         1   20   \n",
              "1      Krishnankit Dixit                           143         0   21   \n",
              "2    Karthi Dhanasekaran                           275         1   21   \n",
              "3         Shreyash patil                           264         1   21   \n",
              "4         Hitesh Kotecha                           220         1   20   \n",
              "\n",
              "   Gender  Study time in hrs  FE pointer(e.g. 7.9)  SE pointer(e.g. 7.9)  \\\n",
              "0        1                 3                  9.20                  9.95   \n",
              "1        0                 5                  9.36                  9.41   \n",
              "2        0                 2                  8.45                  9.45   \n",
              "3        0               0.7                  8.50                  9.20   \n",
              "4        0                 4                  8.40                  8.70   \n",
              "\n",
              "  number of subject failed in current backlogs  \\\n",
              "0                           0                0   \n",
              "1                           0                0   \n",
              "2                           0                0   \n",
              "3                           0                0   \n",
              "4                           0                0   \n",
              "\n",
              "                            Additional courses opted  \\\n",
              "0                                                NaN   \n",
              "1  Web development, Python, Data structures and a...   \n",
              "2                                              AI/ML   \n",
              "3                                     Python, c, c++   \n",
              "4                                                  0   \n",
              "\n",
              "  number of paper published  intership opted 10th marks in percentage  \\\n",
              "0                       NaN              YES                     93.6   \n",
              "1                         0              YES                       89   \n",
              "2                         1              YES                     82.8   \n",
              "3                         1               NO                       89   \n",
              "4                         0              YES                       88   \n",
              "\n",
              "  12th marks in percentage 10th and 12th university/board  \n",
              "0                    82.31                          STATE  \n",
              "1                       83                          STATE  \n",
              "2                     84.6                           CBSE  \n",
              "3                       79                          STATE  \n",
              "4                       74                          STATE  "
            ]
          },
          "execution_count": 19,
          "metadata": {},
          "output_type": "execute_result"
        }
      ],
      "source": [
        "df.head()"
      ]
    },
    {
      "cell_type": "markdown",
      "metadata": {
        "id": "Xq49BJ6c5Jta"
      },
      "source": [
        "# FE Pointer Column Preprocessing"
      ]
    },
    {
      "cell_type": "code",
      "execution_count": null,
      "metadata": {
        "id": "waBZQRcK5Jta",
        "outputId": "05c8f745-52d2-4c3f-a780-9d4259b76d4e"
      },
      "outputs": [
        {
          "data": {
            "text/plain": [
              "numpy.float64"
            ]
          },
          "execution_count": 20,
          "metadata": {},
          "output_type": "execute_result"
        }
      ],
      "source": [
        "type(df['FE pointer(e.g. 7.9)'][0])"
      ]
    },
    {
      "cell_type": "code",
      "execution_count": null,
      "metadata": {
        "id": "KC5tQT-G5Jtb",
        "outputId": "6ee7d15d-4792-479e-d9bf-c018a4e60a49"
      },
      "outputs": [
        {
          "data": {
            "text/plain": [
              "10"
            ]
          },
          "execution_count": 21,
          "metadata": {},
          "output_type": "execute_result"
        }
      ],
      "source": [
        "df['FE pointer(e.g. 7.9)'].isnull().sum()"
      ]
    },
    {
      "cell_type": "code",
      "execution_count": null,
      "metadata": {
        "id": "UH7IAkrk5Jtb"
      },
      "outputs": [],
      "source": [
        "avg_fe_pointer = df['FE pointer(e.g. 7.9)'].sum()"
      ]
    },
    {
      "cell_type": "code",
      "execution_count": null,
      "metadata": {
        "id": "vnYihSca5Jtc"
      },
      "outputs": [],
      "source": [
        "avg_fe_pointer/=122"
      ]
    },
    {
      "cell_type": "code",
      "execution_count": null,
      "metadata": {
        "id": "lFTc7Kpg5Jtc",
        "outputId": "6a0dfaf3-8b74-4b5d-dc75-aeb83ac67ec8"
      },
      "outputs": [
        {
          "data": {
            "text/plain": [
              "7.460245901639344"
            ]
          },
          "execution_count": 24,
          "metadata": {},
          "output_type": "execute_result"
        }
      ],
      "source": [
        "avg_fe_pointer"
      ]
    },
    {
      "cell_type": "code",
      "execution_count": null,
      "metadata": {
        "id": "eI1o0N_A5Jtd",
        "outputId": "d4e12205-c3a5-468b-fde8-0018dacaf598"
      },
      "outputs": [
        {
          "data": {
            "text/plain": [
              "pandas.core.series.Series"
            ]
          },
          "execution_count": 25,
          "metadata": {},
          "output_type": "execute_result"
        }
      ],
      "source": [
        "type(df['FE pointer(e.g. 7.9)'].isnull())"
      ]
    },
    {
      "cell_type": "code",
      "execution_count": null,
      "metadata": {
        "id": "LVLboVvg5Jte",
        "outputId": "0cde6f92-d45e-4770-eca0-dffc7cd4e5e1"
      },
      "outputs": [
        {
          "name": "stderr",
          "output_type": "stream",
          "text": [
            "<ipython-input-26-08d102aeaa9d>:3: SettingWithCopyWarning: \n",
            "A value is trying to be set on a copy of a slice from a DataFrame\n",
            "\n",
            "See the caveats in the documentation: https://pandas.pydata.org/pandas-docs/stable/user_guide/indexing.html#returning-a-view-versus-a-copy\n",
            "  df['FE pointer(e.g. 7.9)'][i[0]] = avg_fe_pointer\n"
          ]
        }
      ],
      "source": [
        "for i in df['FE pointer(e.g. 7.9)'].isnull().iteritems():\n",
        "    if(i[1]):\n",
        "        df['FE pointer(e.g. 7.9)'][i[0]] = avg_fe_pointer"
      ]
    },
    {
      "cell_type": "code",
      "execution_count": null,
      "metadata": {
        "id": "Tm1kLmPA5Jte",
        "outputId": "72b36ed7-544c-49f4-e55e-b17650740501"
      },
      "outputs": [
        {
          "data": {
            "text/plain": [
              "0"
            ]
          },
          "execution_count": 27,
          "metadata": {},
          "output_type": "execute_result"
        }
      ],
      "source": [
        "df['FE pointer(e.g. 7.9)'].isnull().sum()"
      ]
    },
    {
      "cell_type": "code",
      "execution_count": null,
      "metadata": {
        "id": "lNgjDWUJ5Jtf"
      },
      "outputs": [],
      "source": [
        ""
      ]
    },
    {
      "cell_type": "code",
      "execution_count": null,
      "metadata": {
        "id": "Q9I5qhSI5Jtj"
      },
      "outputs": [],
      "source": [
        ""
      ]
    },
    {
      "cell_type": "markdown",
      "metadata": {
        "id": "qngio8V25Jtk"
      },
      "source": [
        "# number of subject failed in column preprocessing"
      ]
    },
    {
      "cell_type": "code",
      "execution_count": null,
      "metadata": {
        "id": "QkInfCUa5Jtl",
        "outputId": "677304b5-4ff1-4afa-8160-a90da55eb484"
      },
      "outputs": [
        {
          "data": {
            "text/plain": [
              "3"
            ]
          },
          "execution_count": 28,
          "metadata": {},
          "output_type": "execute_result"
        }
      ],
      "source": [
        "df['number of subject failed in'].isnull().sum()"
      ]
    },
    {
      "cell_type": "code",
      "execution_count": null,
      "metadata": {
        "id": "E_XXcatE5Jtl",
        "outputId": "150fd4c2-6fb7-49d1-859d-491eba5d4105"
      },
      "outputs": [
        {
          "data": {
            "text/plain": [
              "str"
            ]
          },
          "execution_count": 29,
          "metadata": {},
          "output_type": "execute_result"
        }
      ],
      "source": [
        "type(df['number of subject failed in'][0])"
      ]
    },
    {
      "cell_type": "code",
      "execution_count": null,
      "metadata": {
        "id": "DhkvtI2Y5Jtm",
        "outputId": "cadeb748-70bb-4548-aebe-67d41180171e"
      },
      "outputs": [
        {
          "data": {
            "text/plain": [
              "0       109\n",
              "1         3\n",
              "None      2\n",
              "-         1\n",
              "3         1\n",
              "7         1\n",
              "Na        1\n",
              "5         1\n",
              "Name: number of subject failed in, dtype: int64"
            ]
          },
          "execution_count": 30,
          "metadata": {},
          "output_type": "execute_result"
        }
      ],
      "source": [
        "df['number of subject failed in'].value_counts()"
      ]
    },
    {
      "cell_type": "code",
      "execution_count": null,
      "metadata": {
        "id": "Gs0cTkBl5Jtm"
      },
      "outputs": [],
      "source": [
        "df['number of subject failed in'].replace({'None':np.nan,'-':np.nan,'Na':np.nan}, inplace=True)"
      ]
    },
    {
      "cell_type": "code",
      "execution_count": null,
      "metadata": {
        "id": "-HcSUzFp5Jtm"
      },
      "outputs": [],
      "source": [
        "df['number of subject failed in'].replace({np.nan:'0'}, inplace=True)"
      ]
    },
    {
      "cell_type": "code",
      "execution_count": null,
      "metadata": {
        "id": "4vG240Mm5Jtn",
        "outputId": "76046cad-59d2-4329-926a-ef1b3fe8b803"
      },
      "outputs": [
        {
          "data": {
            "text/plain": [
              "0    116\n",
              "1      3\n",
              "3      1\n",
              "7      1\n",
              "5      1\n",
              "Name: number of subject failed in, dtype: int64"
            ]
          },
          "execution_count": 33,
          "metadata": {},
          "output_type": "execute_result"
        }
      ],
      "source": [
        "df['number of subject failed in'].value_counts()"
      ]
    },
    {
      "cell_type": "code",
      "execution_count": null,
      "metadata": {
        "id": "RQa1vV8D5Jtn"
      },
      "outputs": [],
      "source": [
        ""
      ]
    },
    {
      "cell_type": "code",
      "execution_count": null,
      "metadata": {
        "id": "yOT2i3V35Jtn"
      },
      "outputs": [],
      "source": [
        ""
      ]
    },
    {
      "cell_type": "markdown",
      "metadata": {
        "id": "aYXDdW2G5Jto"
      },
      "source": [
        "# Current Backlogs Column Preprocessing"
      ]
    },
    {
      "cell_type": "code",
      "execution_count": null,
      "metadata": {
        "id": "cNNMykiF5Jto",
        "outputId": "852c2cd8-1429-451c-b059-255ca381a02e"
      },
      "outputs": [
        {
          "data": {
            "text/plain": [
              "0       113\n",
              "None      3\n",
              "-         1\n",
              "Na        1\n",
              "Name: current backlogs, dtype: int64"
            ]
          },
          "execution_count": 34,
          "metadata": {},
          "output_type": "execute_result"
        }
      ],
      "source": [
        "df['current backlogs'].value_counts()"
      ]
    },
    {
      "cell_type": "code",
      "execution_count": null,
      "metadata": {
        "id": "FSSWhExl5Jtp"
      },
      "outputs": [],
      "source": [
        "df['current backlogs'].replace({'None':'0','-':'0','Na':'0'}, inplace=True)"
      ]
    },
    {
      "cell_type": "code",
      "execution_count": null,
      "metadata": {
        "id": "2VrkchK_5Jtp",
        "outputId": "3dc40562-d70d-44ce-c79a-a563b8875879"
      },
      "outputs": [
        {
          "data": {
            "text/plain": [
              "0    118\n",
              "Name: current backlogs, dtype: int64"
            ]
          },
          "execution_count": 36,
          "metadata": {},
          "output_type": "execute_result"
        }
      ],
      "source": [
        "df['current backlogs'].value_counts()"
      ]
    },
    {
      "cell_type": "code",
      "execution_count": null,
      "metadata": {
        "id": "x7eaNtNS5Jtq",
        "outputId": "6a935284-4142-4399-bcc5-5b73d1e6fe33"
      },
      "outputs": [
        {
          "data": {
            "text/plain": [
              "4"
            ]
          },
          "execution_count": 37,
          "metadata": {},
          "output_type": "execute_result"
        }
      ],
      "source": [
        "df['current backlogs'].isnull().sum()"
      ]
    },
    {
      "cell_type": "code",
      "execution_count": null,
      "metadata": {
        "id": "e08_vqfD5Jtq"
      },
      "outputs": [],
      "source": [
        "df['current backlogs'].replace({np.nan:'0'}, inplace=True)"
      ]
    },
    {
      "cell_type": "code",
      "execution_count": null,
      "metadata": {
        "id": "h_YXL-VE5Jtr",
        "outputId": "2f5051f4-5f2a-49af-8226-06bea2710e1f"
      },
      "outputs": [
        {
          "data": {
            "text/plain": [
              "0"
            ]
          },
          "execution_count": 39,
          "metadata": {},
          "output_type": "execute_result"
        }
      ],
      "source": [
        "df['current backlogs'].isnull().sum()"
      ]
    },
    {
      "cell_type": "code",
      "execution_count": null,
      "metadata": {
        "id": "lZgBwhdy5Jtr"
      },
      "outputs": [],
      "source": [
        ""
      ]
    },
    {
      "cell_type": "code",
      "execution_count": null,
      "metadata": {
        "id": "su8HGMI85Jts",
        "outputId": "95dcb5df-abe5-4cae-f1f1-c086f0e54224"
      },
      "outputs": [
        {
          "data": {
            "text/plain": [
              "Timestamp                          0\n",
              "Email Address                      0\n",
              "Name of student                    0\n",
              "Roll Number (e.g. A101, B202)      0\n",
              "Division                           0\n",
              "Age                                0\n",
              "Gender                             0\n",
              "Study time in hrs                  6\n",
              "FE pointer(e.g. 7.9)               0\n",
              "SE pointer(e.g. 7.9)               0\n",
              "number of subject failed in        0\n",
              "current backlogs                   0\n",
              "Additional courses opted          11\n",
              "number of paper published          9\n",
              " intership opted                   1\n",
              "10th marks in percentage           0\n",
              "12th marks in percentage           2\n",
              "10th and 12th university/board     0\n",
              "dtype: int64"
            ]
          },
          "execution_count": 40,
          "metadata": {},
          "output_type": "execute_result"
        }
      ],
      "source": [
        "df.isnull().sum()"
      ]
    },
    {
      "cell_type": "code",
      "execution_count": null,
      "metadata": {
        "id": "qx6Fm_Gl5Jts"
      },
      "outputs": [],
      "source": [
        ""
      ]
    },
    {
      "cell_type": "markdown",
      "metadata": {
        "id": "Y__XCjbI5Jts"
      },
      "source": [
        "# number of paper published column preprocessing"
      ]
    },
    {
      "cell_type": "code",
      "execution_count": null,
      "metadata": {
        "id": "fXA41tMl5Jts",
        "outputId": "e2ecd164-0e53-4ace-cb07-f51da78482ee"
      },
      "outputs": [
        {
          "data": {
            "text/plain": [
              "1          56\n",
              "0          46\n",
              "2           7\n",
              "no          1\n",
              "One         1\n",
              "-           1\n",
              "not yet     1\n",
              "Name: number of paper published, dtype: int64"
            ]
          },
          "execution_count": 41,
          "metadata": {},
          "output_type": "execute_result"
        }
      ],
      "source": [
        "df['number of paper published'].value_counts()"
      ]
    },
    {
      "cell_type": "code",
      "execution_count": null,
      "metadata": {
        "id": "mQuuiv-B5Jtt"
      },
      "outputs": [],
      "source": [
        "df['number of paper published'].replace({'One':'1','-':'0','no':'0', 'not yet':'0'}, inplace=True)"
      ]
    },
    {
      "cell_type": "code",
      "execution_count": null,
      "metadata": {
        "id": "xcvZTbDV5Jtu",
        "outputId": "c2078bd0-39e4-431c-f014-cb514b2c6504"
      },
      "outputs": [
        {
          "data": {
            "text/plain": [
              "1    57\n",
              "0    49\n",
              "2     7\n",
              "Name: number of paper published, dtype: int64"
            ]
          },
          "execution_count": 43,
          "metadata": {},
          "output_type": "execute_result"
        }
      ],
      "source": [
        "df['number of paper published'].value_counts()"
      ]
    },
    {
      "cell_type": "code",
      "execution_count": null,
      "metadata": {
        "id": "4BCNtnwI5Jtu"
      },
      "outputs": [],
      "source": [
        "mean_no_of_papers_published = ((1*57) + (0*49) + (2*7))/(57+49+7)"
      ]
    },
    {
      "cell_type": "code",
      "execution_count": null,
      "metadata": {
        "id": "L0Vr4_Uc5Jtv",
        "outputId": "5459fe34-0974-4055-97ed-dce75f1a8da1"
      },
      "outputs": [
        {
          "data": {
            "text/plain": [
              "0.6283185840707964"
            ]
          },
          "execution_count": 45,
          "metadata": {},
          "output_type": "execute_result"
        }
      ],
      "source": [
        "mean_no_of_papers_published"
      ]
    },
    {
      "cell_type": "code",
      "execution_count": null,
      "metadata": {
        "id": "wKRzLDhM5Jtv",
        "outputId": "1eb98645-a860-4612-f41d-57963b4d8424"
      },
      "outputs": [
        {
          "name": "stderr",
          "output_type": "stream",
          "text": [
            "<ipython-input-46-14da22052cae>:3: SettingWithCopyWarning: \n",
            "A value is trying to be set on a copy of a slice from a DataFrame\n",
            "\n",
            "See the caveats in the documentation: https://pandas.pydata.org/pandas-docs/stable/user_guide/indexing.html#returning-a-view-versus-a-copy\n",
            "  df['number of paper published'][i[0]] = str(mean_no_of_papers_published)\n"
          ]
        }
      ],
      "source": [
        "for i in df['number of paper published'].isnull().iteritems():\n",
        "    if(i[1]):\n",
        "        df['number of paper published'][i[0]] = str(mean_no_of_papers_published)"
      ]
    },
    {
      "cell_type": "code",
      "execution_count": null,
      "metadata": {
        "id": "0o7aTX4w5Jtw",
        "outputId": "f17a9f35-9e4b-4ead-8d94-bfb2699a6c8f"
      },
      "outputs": [
        {
          "data": {
            "text/plain": [
              "0"
            ]
          },
          "execution_count": 47,
          "metadata": {},
          "output_type": "execute_result"
        }
      ],
      "source": [
        "df['number of paper published'].isnull().sum()"
      ]
    },
    {
      "cell_type": "code",
      "execution_count": null,
      "metadata": {
        "id": "B6u-OBNy5Jtx",
        "outputId": "f98f4f6d-b6be-4df4-9619-778c8b657e73"
      },
      "outputs": [
        {
          "data": {
            "text/html": [
              "<div>\n",
              "<style scoped>\n",
              "    .dataframe tbody tr th:only-of-type {\n",
              "        vertical-align: middle;\n",
              "    }\n",
              "\n",
              "    .dataframe tbody tr th {\n",
              "        vertical-align: top;\n",
              "    }\n",
              "\n",
              "    .dataframe thead th {\n",
              "        text-align: right;\n",
              "    }\n",
              "</style>\n",
              "<table border=\"1\" class=\"dataframe\">\n",
              "  <thead>\n",
              "    <tr style=\"text-align: right;\">\n",
              "      <th></th>\n",
              "      <th>Timestamp</th>\n",
              "      <th>Email Address</th>\n",
              "      <th>Name of student</th>\n",
              "      <th>Roll Number (e.g. A101, B202)</th>\n",
              "      <th>Division</th>\n",
              "      <th>Age</th>\n",
              "      <th>Gender</th>\n",
              "      <th>Study time in hrs</th>\n",
              "      <th>FE pointer(e.g. 7.9)</th>\n",
              "      <th>SE pointer(e.g. 7.9)</th>\n",
              "      <th>number of subject failed in</th>\n",
              "      <th>current backlogs</th>\n",
              "      <th>Additional courses opted</th>\n",
              "      <th>number of paper published</th>\n",
              "      <th>intership opted</th>\n",
              "      <th>10th marks in percentage</th>\n",
              "      <th>12th marks in percentage</th>\n",
              "      <th>10th and 12th university/board</th>\n",
              "    </tr>\n",
              "  </thead>\n",
              "  <tbody>\n",
              "    <tr>\n",
              "      <th>0</th>\n",
              "      <td>1/18/2022 14:34:30</td>\n",
              "      <td>nikita.khairnar19@pccoepune.org</td>\n",
              "      <td>Nikita Vijay Khairnar</td>\n",
              "      <td>213</td>\n",
              "      <td>1</td>\n",
              "      <td>20</td>\n",
              "      <td>1</td>\n",
              "      <td>3</td>\n",
              "      <td>9.20</td>\n",
              "      <td>9.95</td>\n",
              "      <td>0</td>\n",
              "      <td>0</td>\n",
              "      <td>NaN</td>\n",
              "      <td>0.6283185840707964</td>\n",
              "      <td>YES</td>\n",
              "      <td>93.6</td>\n",
              "      <td>82.31</td>\n",
              "      <td>STATE</td>\n",
              "    </tr>\n",
              "    <tr>\n",
              "      <th>1</th>\n",
              "      <td>1/18/2022 14:34:31</td>\n",
              "      <td>krishnankit.dixit19@pccoepune.org</td>\n",
              "      <td>Krishnankit Dixit</td>\n",
              "      <td>143</td>\n",
              "      <td>0</td>\n",
              "      <td>21</td>\n",
              "      <td>0</td>\n",
              "      <td>5</td>\n",
              "      <td>9.36</td>\n",
              "      <td>9.41</td>\n",
              "      <td>0</td>\n",
              "      <td>0</td>\n",
              "      <td>Web development, Python, Data structures and a...</td>\n",
              "      <td>0</td>\n",
              "      <td>YES</td>\n",
              "      <td>89</td>\n",
              "      <td>83</td>\n",
              "      <td>STATE</td>\n",
              "    </tr>\n",
              "    <tr>\n",
              "      <th>2</th>\n",
              "      <td>1/18/2022 14:34:38</td>\n",
              "      <td>karthi.dhanasekaran19@pccoepune.org</td>\n",
              "      <td>Karthi Dhanasekaran</td>\n",
              "      <td>275</td>\n",
              "      <td>1</td>\n",
              "      <td>21</td>\n",
              "      <td>0</td>\n",
              "      <td>2</td>\n",
              "      <td>8.45</td>\n",
              "      <td>9.45</td>\n",
              "      <td>0</td>\n",
              "      <td>0</td>\n",
              "      <td>AI/ML</td>\n",
              "      <td>1</td>\n",
              "      <td>YES</td>\n",
              "      <td>82.8</td>\n",
              "      <td>84.6</td>\n",
              "      <td>CBSE</td>\n",
              "    </tr>\n",
              "    <tr>\n",
              "      <th>3</th>\n",
              "      <td>1/18/2022 14:34:44</td>\n",
              "      <td>shreyash.patil19@pccoepune.org</td>\n",
              "      <td>Shreyash patil</td>\n",
              "      <td>264</td>\n",
              "      <td>1</td>\n",
              "      <td>21</td>\n",
              "      <td>0</td>\n",
              "      <td>0.7</td>\n",
              "      <td>8.50</td>\n",
              "      <td>9.20</td>\n",
              "      <td>0</td>\n",
              "      <td>0</td>\n",
              "      <td>Python, c, c++</td>\n",
              "      <td>1</td>\n",
              "      <td>NO</td>\n",
              "      <td>89</td>\n",
              "      <td>79</td>\n",
              "      <td>STATE</td>\n",
              "    </tr>\n",
              "    <tr>\n",
              "      <th>4</th>\n",
              "      <td>1/18/2022 14:34:54</td>\n",
              "      <td>hitesh.kotecha19@pccoepune.org</td>\n",
              "      <td>Hitesh Kotecha</td>\n",
              "      <td>220</td>\n",
              "      <td>1</td>\n",
              "      <td>20</td>\n",
              "      <td>0</td>\n",
              "      <td>4</td>\n",
              "      <td>8.40</td>\n",
              "      <td>8.70</td>\n",
              "      <td>0</td>\n",
              "      <td>0</td>\n",
              "      <td>0</td>\n",
              "      <td>0</td>\n",
              "      <td>YES</td>\n",
              "      <td>88</td>\n",
              "      <td>74</td>\n",
              "      <td>STATE</td>\n",
              "    </tr>\n",
              "  </tbody>\n",
              "</table>\n",
              "</div>"
            ],
            "text/plain": [
              "            Timestamp                        Email Address  \\\n",
              "0  1/18/2022 14:34:30      nikita.khairnar19@pccoepune.org   \n",
              "1  1/18/2022 14:34:31    krishnankit.dixit19@pccoepune.org   \n",
              "2  1/18/2022 14:34:38  karthi.dhanasekaran19@pccoepune.org   \n",
              "3  1/18/2022 14:34:44       shreyash.patil19@pccoepune.org   \n",
              "4  1/18/2022 14:34:54       hitesh.kotecha19@pccoepune.org   \n",
              "\n",
              "         Name of student Roll Number (e.g. A101, B202)  Division  Age  \\\n",
              "0  Nikita Vijay Khairnar                           213         1   20   \n",
              "1      Krishnankit Dixit                           143         0   21   \n",
              "2    Karthi Dhanasekaran                           275         1   21   \n",
              "3         Shreyash patil                           264         1   21   \n",
              "4         Hitesh Kotecha                           220         1   20   \n",
              "\n",
              "   Gender  Study time in hrs  FE pointer(e.g. 7.9)  SE pointer(e.g. 7.9)  \\\n",
              "0        1                 3                  9.20                  9.95   \n",
              "1        0                 5                  9.36                  9.41   \n",
              "2        0                 2                  8.45                  9.45   \n",
              "3        0               0.7                  8.50                  9.20   \n",
              "4        0                 4                  8.40                  8.70   \n",
              "\n",
              "  number of subject failed in current backlogs  \\\n",
              "0                           0                0   \n",
              "1                           0                0   \n",
              "2                           0                0   \n",
              "3                           0                0   \n",
              "4                           0                0   \n",
              "\n",
              "                            Additional courses opted  \\\n",
              "0                                                NaN   \n",
              "1  Web development, Python, Data structures and a...   \n",
              "2                                              AI/ML   \n",
              "3                                     Python, c, c++   \n",
              "4                                                  0   \n",
              "\n",
              "  number of paper published  intership opted 10th marks in percentage  \\\n",
              "0        0.6283185840707964              YES                     93.6   \n",
              "1                         0              YES                       89   \n",
              "2                         1              YES                     82.8   \n",
              "3                         1               NO                       89   \n",
              "4                         0              YES                       88   \n",
              "\n",
              "  12th marks in percentage 10th and 12th university/board  \n",
              "0                    82.31                          STATE  \n",
              "1                       83                          STATE  \n",
              "2                     84.6                           CBSE  \n",
              "3                       79                          STATE  \n",
              "4                       74                          STATE  "
            ]
          },
          "execution_count": 48,
          "metadata": {},
          "output_type": "execute_result"
        }
      ],
      "source": [
        "df.head()"
      ]
    },
    {
      "cell_type": "code",
      "execution_count": null,
      "metadata": {
        "id": "tGMw6eMe5Jtz"
      },
      "outputs": [],
      "source": [
        ""
      ]
    },
    {
      "cell_type": "code",
      "execution_count": null,
      "metadata": {
        "id": "kqJDGau05Jt0"
      },
      "outputs": [],
      "source": [
        ""
      ]
    },
    {
      "cell_type": "code",
      "execution_count": null,
      "metadata": {
        "id": "YRDvEC2u5Jt0",
        "outputId": "8faeb358-949c-4290-81e7-3aebe8fbdb8d"
      },
      "outputs": [
        {
          "data": {
            "text/plain": [
              "Timestamp                          0\n",
              "Email Address                      0\n",
              "Name of student                    0\n",
              "Roll Number (e.g. A101, B202)      0\n",
              "Division                           0\n",
              "Age                                0\n",
              "Gender                             0\n",
              "Study time in hrs                  6\n",
              "FE pointer(e.g. 7.9)               0\n",
              "SE pointer(e.g. 7.9)               0\n",
              "number of subject failed in        0\n",
              "current backlogs                   0\n",
              "Additional courses opted          11\n",
              "number of paper published          0\n",
              " intership opted                   1\n",
              "10th marks in percentage           0\n",
              "12th marks in percentage           2\n",
              "10th and 12th university/board     0\n",
              "dtype: int64"
            ]
          },
          "execution_count": 49,
          "metadata": {},
          "output_type": "execute_result"
        }
      ],
      "source": [
        "df.isnull().sum()"
      ]
    },
    {
      "cell_type": "code",
      "execution_count": null,
      "metadata": {
        "id": "tTQCCIMu5Jt1"
      },
      "outputs": [],
      "source": [
        ""
      ]
    }
  ],
  "metadata": {
    "kernelspec": {
      "display_name": "Python 3",
      "language": "python",
      "name": "python3"
    },
    "language_info": {
      "codemirror_mode": {
        "name": "ipython",
        "version": 3
      },
      "file_extension": ".py",
      "mimetype": "text/x-python",
      "name": "python",
      "nbconvert_exporter": "python",
      "pygments_lexer": "ipython3",
      "version": "3.8.5"
    },
    "colab": {
      "name": "DSBDA_A2_AcademicPerformanceDatasetCleaning.ipynb",
      "provenance": [],
      "collapsed_sections": [
        "2ufvPKi85JtS",
        "ExEujAa65JtW",
        "Xq49BJ6c5Jta",
        "qngio8V25Jtk",
        "aYXDdW2G5Jto",
        "Y__XCjbI5Jts"
      ]
    }
  },
  "nbformat": 4,
  "nbformat_minor": 0
}